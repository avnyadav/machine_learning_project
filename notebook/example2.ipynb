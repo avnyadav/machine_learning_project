{
 "cells": [
  {
   "cell_type": "code",
   "execution_count": 2,
   "metadata": {},
   "outputs": [],
   "source": [
    "url= 'https://raw.githubusercontent.com/ageron/handson-ml/master/datasets/housing/housing.tgz'"
   ]
  },
  {
   "cell_type": "code",
   "execution_count": 3,
   "metadata": {},
   "outputs": [],
   "source": [
    "import os"
   ]
  },
  {
   "cell_type": "code",
   "execution_count": 4,
   "metadata": {},
   "outputs": [
    {
     "data": {
      "text/plain": [
       "'housing.tgz'"
      ]
     },
     "execution_count": 4,
     "metadata": {},
     "output_type": "execute_result"
    }
   ],
   "source": [
    "os.path.basename(url)"
   ]
  },
  {
   "cell_type": "code",
   "execution_count": 5,
   "metadata": {},
   "outputs": [],
   "source": [
    "file_path=r\"D:\\Project\\machine_learning_project\\config\""
   ]
  },
  {
   "cell_type": "code",
   "execution_count": 8,
   "metadata": {},
   "outputs": [
    {
     "data": {
      "text/plain": [
       "'config.yaml'"
      ]
     },
     "execution_count": 8,
     "metadata": {},
     "output_type": "execute_result"
    }
   ],
   "source": [
    "os.listdir(file_path)[0]"
   ]
  },
  {
   "cell_type": "code",
   "execution_count": 1,
   "metadata": {},
   "outputs": [],
   "source": [
    "## Data Ingestion"
   ]
  },
  {
   "cell_type": "code",
   "execution_count": 2,
   "metadata": {},
   "outputs": [],
   "source": [
    "import pandas as pd"
   ]
  },
  {
   "cell_type": "code",
   "execution_count": 3,
   "metadata": {},
   "outputs": [],
   "source": [
    "csv_file_path=r\"D:\\Project\\machine_learning_project\\housing\\artifact\\data_ingestion\\2022-06-26-11-58-02\\raw_data\\housing.csv\"\n",
    "housing_data_frame=pd.read_csv(csv_file_path)"
   ]
  },
  {
   "cell_type": "code",
   "execution_count": 4,
   "metadata": {},
   "outputs": [],
   "source": [
    "import matplotlib.pyplot as plt"
   ]
  },
  {
   "cell_type": "code",
   "execution_count": 5,
   "metadata": {},
   "outputs": [
    {
     "data": {
      "text/plain": [
       "<AxesSubplot:ylabel='Frequency'>"
      ]
     },
     "execution_count": 5,
     "metadata": {},
     "output_type": "execute_result"
    },
    {
     "data": {
      "image/png": "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",
      "text/plain": [
       "<Figure size 432x288 with 1 Axes>"
      ]
     },
     "metadata": {
      "needs_background": "light"
     },
     "output_type": "display_data"
    }
   ],
   "source": [
    "housing_data_frame[[\"median_income\"]].plot(kind=\"hist\")"
   ]
  },
  {
   "cell_type": "code",
   "execution_count": 6,
   "metadata": {},
   "outputs": [],
   "source": [
    "import numpy as np"
   ]
  },
  {
   "cell_type": "code",
   "execution_count": 7,
   "metadata": {},
   "outputs": [],
   "source": [
    "housing_data_frame[\"income_cat\"] = pd.cut(\n",
    "                housing_data_frame[\"median_income\"],\n",
    "                bins=[0.0, 1.5, 3.0, 4.5, 6.0, np.inf],\n",
    "                labels=[1,2,3,4,5]\n",
    "            )"
   ]
  },
  {
   "cell_type": "code",
   "execution_count": 8,
   "metadata": {},
   "outputs": [
    {
     "data": {
      "image/png": "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",
      "text/plain": [
       "<Figure size 432x288 with 1 Axes>"
      ]
     },
     "metadata": {},
     "output_type": "display_data"
    }
   ],
   "source": [
    "plt.pie(housing_data_frame.income_cat.value_counts(),labels=housing_data_frame.income_cat.value_counts().index)\n",
    "plt.show()"
   ]
  },
  {
   "cell_type": "code",
   "execution_count": 9,
   "metadata": {},
   "outputs": [],
   "source": [
    "from sklearn.model_selection import StratifiedShuffleSplit"
   ]
  },
  {
   "cell_type": "code",
   "execution_count": 10,
   "metadata": {},
   "outputs": [],
   "source": [
    "split = StratifiedShuffleSplit(n_splits=1, test_size=0.2, random_state=42)"
   ]
  },
  {
   "cell_type": "code",
   "execution_count": 11,
   "metadata": {},
   "outputs": [
    {
     "name": "stdout",
     "output_type": "stream",
     "text": [
      "[12655 15502  2908 ... 19263 19140 19773] [ 5241 17352  3505 ... 17223 10786  3965]\n"
     ]
    }
   ],
   "source": [
    "for train_ix,test_ix in split.split(housing_data_frame, housing_data_frame[\"income_cat\"]):\n",
    "    print(train_ix,test_ix)"
   ]
  },
  {
   "cell_type": "code",
   "execution_count": 12,
   "metadata": {},
   "outputs": [],
   "source": [
    "train_df=housing_data_frame.loc[train_ix]"
   ]
  },
  {
   "cell_type": "code",
   "execution_count": 13,
   "metadata": {},
   "outputs": [
    {
     "data": {
      "text/plain": [
       "(20640, 11)"
      ]
     },
     "execution_count": 13,
     "metadata": {},
     "output_type": "execute_result"
    }
   ],
   "source": [
    "housing_data_frame.shape"
   ]
  },
  {
   "cell_type": "code",
   "execution_count": 14,
   "metadata": {},
   "outputs": [
    {
     "data": {
      "text/plain": [
       "(16512, 11)"
      ]
     },
     "execution_count": 14,
     "metadata": {},
     "output_type": "execute_result"
    }
   ],
   "source": [
    "train_df.shape"
   ]
  },
  {
   "cell_type": "code",
   "execution_count": 15,
   "metadata": {},
   "outputs": [],
   "source": [
    "test_df=housing_data_frame.loc[test_ix]"
   ]
  },
  {
   "cell_type": "code",
   "execution_count": 16,
   "metadata": {},
   "outputs": [
    {
     "data": {
      "text/plain": [
       "(4128, 11)"
      ]
     },
     "execution_count": 16,
     "metadata": {},
     "output_type": "execute_result"
    }
   ],
   "source": [
    "test_df.shape"
   ]
  },
  {
   "cell_type": "code",
   "execution_count": 17,
   "metadata": {},
   "outputs": [
    {
     "data": {
      "image/png": "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",
      "text/plain": [
       "<Figure size 432x288 with 1 Axes>"
      ]
     },
     "metadata": {},
     "output_type": "display_data"
    }
   ],
   "source": [
    "plt.pie(train_df.income_cat.value_counts(),labels=train_df.income_cat.value_counts().index)\n",
    "plt.show()"
   ]
  },
  {
   "cell_type": "code",
   "execution_count": 18,
   "metadata": {},
   "outputs": [
    {
     "data": {
      "image/png": "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",
      "text/plain": [
       "<Figure size 432x288 with 1 Axes>"
      ]
     },
     "metadata": {},
     "output_type": "display_data"
    }
   ],
   "source": [
    "plt.pie(test_df.income_cat.value_counts(),labels=test_df.income_cat.value_counts().index)\n",
    "plt.show()"
   ]
  },
  {
   "cell_type": "code",
   "execution_count": 27,
   "metadata": {},
   "outputs": [
    {
     "data": {
      "text/plain": [
       "(Index(['longitude', 'latitude', 'housing_median_age', 'total_rooms',\n",
       "        'total_bedrooms', 'population', 'households', 'median_income',\n",
       "        'median_house_value', 'ocean_proximity', 'income_cat'],\n",
       "       dtype='object'),\n",
       " array([dtype('float64'), dtype('float64'), dtype('float64'),\n",
       "        dtype('float64'), dtype('float64'), dtype('float64'),\n",
       "        dtype('float64'), dtype('float64'), dtype('float64'), dtype('O'),\n",
       "        CategoricalDtype(categories=[1, 2, 3, 4, 5], ordered=True)],\n",
       "       dtype=object))"
      ]
     },
     "execution_count": 27,
     "metadata": {},
     "output_type": "execute_result"
    }
   ],
   "source": [
    "housing_data_frame.dtypes.index,housing_data_frame.dtypes.values"
   ]
  },
  {
   "cell_type": "code",
   "execution_count": 30,
   "metadata": {},
   "outputs": [],
   "source": [
    "data_type = list(map(lambda x:str(x).replace(\"dtype('\",\"\").replace(\"')\",\"\") ,housing_data_frame.dtypes.values))"
   ]
  },
  {
   "cell_type": "code",
   "execution_count": 31,
   "metadata": {},
   "outputs": [],
   "source": [
    "column=housing_data_frame.columns"
   ]
  },
  {
   "cell_type": "code",
   "execution_count": 32,
   "metadata": {},
   "outputs": [
    {
     "data": {
      "text/plain": [
       "{'longitude': 'float64',\n",
       " 'latitude': 'float64',\n",
       " 'housing_median_age': 'float64',\n",
       " 'total_rooms': 'float64',\n",
       " 'total_bedrooms': 'float64',\n",
       " 'population': 'float64',\n",
       " 'households': 'float64',\n",
       " 'median_income': 'float64',\n",
       " 'median_house_value': 'float64',\n",
       " 'ocean_proximity': 'object',\n",
       " 'income_cat': 'category'}"
      ]
     },
     "execution_count": 32,
     "metadata": {},
     "output_type": "execute_result"
    }
   ],
   "source": [
    "dict(zip(column,data_type))"
   ]
  },
  {
   "cell_type": "code",
   "execution_count": null,
   "metadata": {},
   "outputs": [],
   "source": []
  }
 ],
 "metadata": {
  "kernelspec": {
   "display_name": "Python 3.7.0 (conda)",
   "language": "python",
   "name": "python3"
  },
  "language_info": {
   "codemirror_mode": {
    "name": "ipython",
    "version": 3
   },
   "file_extension": ".py",
   "mimetype": "text/x-python",
   "name": "python",
   "nbconvert_exporter": "python",
   "pygments_lexer": "ipython3",
   "version": "3.7.0"
  },
  "orig_nbformat": 4,
  "vscode": {
   "interpreter": {
    "hash": "7a29293c9d4d8b93126739266382f07a312940ff8d40640417510f0b045f4058"
   }
  }
 },
 "nbformat": 4,
 "nbformat_minor": 2
}
housing_data_frame.dtypes.index,housing_data_frame.dtypes.values[longitude}
